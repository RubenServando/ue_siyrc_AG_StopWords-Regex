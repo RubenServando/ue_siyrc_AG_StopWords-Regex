{
  "nbformat": 4,
  "nbformat_minor": 0,
  "metadata": {
    "colab": {
      "provenance": [],
      "include_colab_link": true
    },
    "kernelspec": {
      "name": "python3",
      "display_name": "Python 3"
    },
    "language_info": {
      "name": "python"
    }
  },
  "cells": [
    {
      "cell_type": "markdown",
      "metadata": {
        "id": "view-in-github",
        "colab_type": "text"
      },
      "source": [
        "<a href=\"https://colab.research.google.com/github/RubenServando/ue_siyrc_AG_StopWords-Regex/blob/main/SIYRC_Practica_Grupal.ipynb\" target=\"_parent\"><img src=\"https://colab.research.google.com/assets/colab-badge.svg\" alt=\"Open In Colab\"/></a>"
      ]
    },
    {
      "cell_type": "markdown",
      "source": [
        "\n",
        "\n",
        "# Sistemas Inteligentes y Representación del conocimiento \n",
        "\n",
        "## Practica grupal. Grupo 2\n",
        "\n",
        "Vanessa Lara Pérez /\n",
        "Roberto Peralta Hernández /\n",
        "Rubén Servando Carrillo"
      ],
      "metadata": {
        "id": "qzjMWUvsoLfU"
      }
    },
    {
      "cell_type": "markdown",
      "source": [
        "Primero importamos las librerías necesarias"
      ],
      "metadata": {
        "id": "6NyojpwdNrv_"
      }
    },
    {
      "cell_type": "code",
      "source": [
        "import re\n",
        "import nltk\n",
        "from nltk.corpus import stopwords\n",
        "nltk.download('punkt')"
      ],
      "metadata": {
        "id": "xcYO-P5e16yA",
        "colab": {
          "base_uri": "https://localhost:8080/"
        },
        "outputId": "411bcccf-9964-480d-b1a0-0791ade303a2"
      },
      "execution_count": 1,
      "outputs": [
        {
          "output_type": "stream",
          "name": "stderr",
          "text": [
            "[nltk_data] Downloading package punkt to /root/nltk_data...\n",
            "[nltk_data]   Unzipping tokenizers/punkt.zip.\n"
          ]
        },
        {
          "output_type": "execute_result",
          "data": {
            "text/plain": [
              "True"
            ]
          },
          "metadata": {},
          "execution_count": 1
        }
      ]
    },
    {
      "cell_type": "markdown",
      "source": [
        "Cargamos una lista de stopwords en español que es el idioma del texto"
      ],
      "metadata": {
        "id": "1MP0OG-2N3bh"
      }
    },
    {
      "cell_type": "code",
      "source": [
        "nltk.download('stopwords')\n",
        "stop_words = stopwords.words('spanish')\n",
        "\n",
        "stop_words"
      ],
      "metadata": {
        "id": "kwArovjy1sGo"
      },
      "execution_count": null,
      "outputs": []
    },
    {
      "cell_type": "markdown",
      "source": [
        "Cargamos el texto del ejercicio"
      ],
      "metadata": {
        "id": "9DRV_4F2Oc2Z"
      }
    },
    {
      "cell_type": "code",
      "source": [
        "texto = \"\"\"\n",
        "\n",
        "Introducción\n",
        "\n",
        "En este documento se presenta un resumen de la ponencia y del posterior debate realizado en la mesa redonda dedicada al tema de “Sistemas Inteligentes: Propuesta de contenidos y técnicas docentes en la titulación de Ingeniería Informática”, celebrada el 12 de septiembre de 2007, a las 11:00 h., en el Aula 8 de la Escuela Universitaria de Estudios Sociales de Zaragoza, dentro del II Simposio Nacional de Docencia en Informática (SiNDI), organizado en el marco del II Congreso Español de Informática (CEDI). Esta sesión también formaba parte de las sesiones del II Simposio de Inteligencia Computacional (SICO’2007) organizado por el Capítulo Español de la IEEE Computacional Intelligence Society.\n",
        "\n",
        "El Simposio Nacional de Docencia en Informática es promovido por la Asociación Nacional de Enseñantes Universitarios de Informática, formada por profesores de distintas universidades españolas preocupados por la mejora de la calidad de la enseñanza de las materias relacionadas con la informática, y especialmente en las titulaciones oficiales de Ingeniería Informática. Esta segunda edición del SiNDI se planteó como lugar de reflexión y debate para identificar los contenidos y las mejores técnicas para la enseñanza+aprendizaje de las materias incluidas en los estudios universitarios de Informática, pensando ya en los futuros títulos de grado que se deben diseñar en el marco del Espacio Europeo de Educación Superior (EEES) y siguiendo sus principios. Se ha tomado como marco de referencia el Libro Blanco del Titulo de Grado en Ingeniería Informática elaborado por el proyecto EICE (Estudios de Informática y Convergencia Europea), en el que participaron 56 Universidades, y que se enmarcaba en la convocatoria de ayudas para el diseño de planes de estudio y títulos de grado de la Agencia Nacional de Evaluación de la Calidad y Acreditación (ANECA).\n",
        "2. Ponencia\n",
        "\n",
        "A propuesta de la Asociación Española Para la Inteligencia Artificial (AEPIA), presentan la ponencia sobre el tema los profesores Antonio Bahamonde y Vicente Botti. El Dr. Antonio Bahamonde es Catedrático de Universidad de la Universidad de Oviedo, director del Centro de Inteligencia Artificial de dicha Universidad y experto en aprendizaje automático. El Dr. Vicente Botti es Catedrático de Universidad de la Universidad Politécnica de Valencia, ha sido director del Departamento de Sistemas Informáticos y Computación de la UPV y experto en Sistemas Multiagente, Sociedades Artificiales, Sistemas de Tiempo Real, Robótica Movil y Técnicas de Softcomputing. Aunque el texto integro de la ponencia puede encontrarse en este mismo libro de actas, a continuación se presenta un breve resumen de la exposición de la misma.\n",
        "La exposición se estructuró alrededor de dos preguntas a las que se dio respuesta:\n",
        "\n",
        "1.- ¿Tiene sentido que un ingeniero en informática conozca las técnicas de sistemas inteligentes?\n",
        "\n",
        "2.- En caso afirmativo, ¿qué debe enseñarse? Para responder a la primera pregunta, es decir, si se requiere formación en tecnologías de Sistemas Inteligentes en el grado de Ingeniería en Informática, se analizaron cinco ámbitos:\n",
        "\n",
        "• Los sistemas inteligentes en la industria informática actual (navegadores, google, amazon, mystrands, reconocimiento de matrículas en aparcamientos, sistemas de fabricación, robots domésticos, comercio electrónico y compras on-line, sistemas de ayuda a la toma de decisiones en el campo de la salud, telecomunicaciones, ...). • Los sistemas inteligentes en el Plan Nacional de Tecnologías Informáticas (TIN), cuya línea prioritaria ha pasado de representar un 16 % de los proyectos concedidos en 2004 a un 42% de los concedidos en 2006 y obteniendo una financiación del 58 % de los euros concedidos. • El 7º Programa Marco de la Unión Europea, en el que existen distintas líneas relacionadas con los sistemas inteligentes • El informe COTEC 2007\n",
        "\n",
        "• Y el programa CONSOLIDER Ingenio 2010, con dos proyectos integrados en la línea de Sistemas Inteligentes en el año 2007: Interacción Multimodal en Reconocimiento de Formas y Visión Artificial y Tecnologías del Acuerdo\n",
        "\n",
        "A continuación, tras haber argumentado a favor de la formación de los futuros Ingenieros en Informática en las técnicas de los sistemas inteligentes, los ponentes hacen una propuesta de contenidos, apoyándose en los informes de ACM e IEEE de 2005, en particular en el currículo en Computer Science, y en los contenidos en sistemas inteligentes de titulaciones de Informática en distintas universidades de prestigio. En concreto se propone una asignatura de contenidos formativos comunes de 12 créditos europeos, que abordará los siguientes aspectos:\n",
        "\n",
        "• Presentación de la asignatura (5%)\n",
        "\n",
        "• Representación del Conocimiento. Resolución de Problemas (10%)\n",
        "\n",
        "• Razonamiento: Lógica. Razonamiento incierto (10%)\n",
        "\n",
        "• Planificación (10%)\n",
        "\n",
        "• Búsqueda (10%)\n",
        "\n",
        "• Aprendizaje Automático (15%)\n",
        "\n",
        "• Agentes: Conceptos y Arquitecturas. Filtros colaborativos (15%)\n",
        "\n",
        "• Aplicaciones: Lenguaje natural (incluye web). Percepción (incluye visión). La aplicación de referencia en la Universidad correspondiente (25%)\n",
        "\n",
        "Adicionalmente se expusieron una serie de consideraciones didácticas a tener en cuenta al diseñar la asignatura de sistemas inteligentes:\n",
        "\n",
        "• Aproximar los estudios universitarios al ejercicio profesional.\n",
        "\n",
        "• Mayor protagonismo del estudiante en su formación.\n",
        "\n",
        "• Fomentar el trabajo colaborativo\n",
        "\n",
        "• Organizar la enseñanza en función de las competencias\n",
        "\n",
        "• Potenciar la adquisición de herramientas de aprendizaje autónomo y permanente\n",
        "\n",
        "• Uso de metodologías activas\n",
        "\n",
        "• Redefinición profunda de planes de estudio con objetivos acordes con el entorno socioeconómico y con las enseñanzas preuniversitarias.\n",
        "\n",
        "Finalmente, se propusieron distintas materias discrecionales a elegir por las universidades (Almacenes y Minería de Datos, Aprendizaje Automático, Lingüística Computacional, Reconocimiento de Formas, Métodos Basados en Núcleos, Sistemas Multiagente, Técnicas de Búsqueda Inteligente y tema en los que tenga experiencia la propia Universidad) y una propuesta de materias de master en Sistemas Inteligentes (Agentes de Información y Web Semántica, Extracción del Conocimiento, Ingeniería del Conocimiento, Ingeniería de Sistemas Multiagente, Métodos Estadísticos en Tecnologías del Lenguaje, Planificación, Scheduling y Robótica, Reconocimiento Automático del Habla, Reconocimiento de Escritura e Imágenes, Sistemas de Visión y Técnicas de Planificación en Inteligencia Artificial).\n",
        "\n",
        "La presentación permitió a los asistentes hacerse una idea de la propuesta de los ponentes, que se encuentra detallada en su ponencia, y de esta forma se dio paso al debate.\n",
        "\n",
        "Para más informaciones, contacta con:\n",
        "\n",
        "contacto.visual@hotmail.com\n",
        "\n",
        "referencia_oficial01@gmail.com\n",
        "\n",
        "adminatrador-departamiento@yahoo.es\n",
        "\n",
        "\"\"\"\n",
        "\n",
        "texto"
      ],
      "metadata": {
        "id": "N0oqo5nj86rd"
      },
      "execution_count": null,
      "outputs": []
    },
    {
      "cell_type": "markdown",
      "source": [
        "Separamos el texto completo en párrafos"
      ],
      "metadata": {
        "id": "6AoJCdOZOtjP"
      }
    },
    {
      "cell_type": "code",
      "source": [
        "parrafos = texto.splitlines()\n",
        "print(parrafos)"
      ],
      "metadata": {
        "colab": {
          "base_uri": "https://localhost:8080/"
        },
        "id": "PLxurhFAOsNa",
        "outputId": "a4d40c42-879c-4349-a26d-814ca1979a8d"
      },
      "execution_count": 4,
      "outputs": [
        {
          "output_type": "stream",
          "name": "stdout",
          "text": [
            "['', '', 'Introducción', '', 'En este documento se presenta un resumen de la ponencia y del posterior debate realizado en la mesa redonda dedicada al tema de “Sistemas Inteligentes: Propuesta de contenidos y técnicas docentes en la titulación de Ingeniería Informática”, celebrada el 12 de septiembre de 2007, a las 11:00 h., en el Aula 8 de la Escuela Universitaria de Estudios Sociales de Zaragoza, dentro del II Simposio Nacional de Docencia en Informática (SiNDI), organizado en el marco del II Congreso Español de Informática (CEDI). Esta sesión también formaba parte de las sesiones del II Simposio de Inteligencia Computacional (SICO’2007) organizado por el Capítulo Español de la IEEE Computacional Intelligence Society.', '', 'El Simposio Nacional de Docencia en Informática es promovido por la Asociación Nacional de Enseñantes Universitarios de Informática, formada por profesores de distintas universidades españolas preocupados por la mejora de la calidad de la enseñanza de las materias relacionadas con la informática, y especialmente en las titulaciones oficiales de Ingeniería Informática. Esta segunda edición del SiNDI se planteó como lugar de reflexión y debate para identificar los contenidos y las mejores técnicas para la enseñanza+aprendizaje de las materias incluidas en los estudios universitarios de Informática, pensando ya en los futuros títulos de grado que se deben diseñar en el marco del Espacio Europeo de Educación Superior (EEES) y siguiendo sus principios. Se ha tomado como marco de referencia el Libro Blanco del Titulo de Grado en Ingeniería Informática elaborado por el proyecto EICE (Estudios de Informática y Convergencia Europea), en el que participaron 56 Universidades, y que se enmarcaba en la convocatoria de ayudas para el diseño de planes de estudio y títulos de grado de la Agencia Nacional de Evaluación de la Calidad y Acreditación (ANECA).', '2. Ponencia', '', 'A propuesta de la Asociación Española Para la Inteligencia Artificial (AEPIA), presentan la ponencia sobre el tema los profesores Antonio Bahamonde y Vicente Botti. El Dr. Antonio Bahamonde es Catedrático de Universidad de la Universidad de Oviedo, director del Centro de Inteligencia Artificial de dicha Universidad y experto en aprendizaje automático. El Dr. Vicente Botti es Catedrático de Universidad de la Universidad Politécnica de Valencia, ha sido director del Departamento de Sistemas Informáticos y Computación de la UPV y experto en Sistemas Multiagente, Sociedades Artificiales, Sistemas de Tiempo Real, Robótica Movil y Técnicas de Softcomputing. Aunque el texto integro de la ponencia puede encontrarse en este mismo libro de actas, a continuación se presenta un breve resumen de la exposición de la misma.', 'La exposición se estructuró alrededor de dos preguntas a las que se dio respuesta:', '', '1.- ¿Tiene sentido que un ingeniero en informática conozca las técnicas de sistemas inteligentes?', '', '2.- En caso afirmativo, ¿qué debe enseñarse? Para responder a la primera pregunta, es decir, si se requiere formación en tecnologías de Sistemas Inteligentes en el grado de Ingeniería en Informática, se analizaron cinco ámbitos:', '', '• Los sistemas inteligentes en la industria informática actual (navegadores, google, amazon, mystrands, reconocimiento de matrículas en aparcamientos, sistemas de fabricación, robots domésticos, comercio electrónico y compras on-line, sistemas de ayuda a la toma de decisiones en el campo de la salud, telecomunicaciones, ...). • Los sistemas inteligentes en el Plan Nacional de Tecnologías Informáticas (TIN), cuya línea prioritaria ha pasado de representar un 16 % de los proyectos concedidos en 2004 a un 42% de los concedidos en 2006 y obteniendo una financiación del 58 % de los euros concedidos. • El 7º Programa Marco de la Unión Europea, en el que existen distintas líneas relacionadas con los sistemas inteligentes • El informe COTEC 2007', '', '• Y el programa CONSOLIDER Ingenio 2010, con dos proyectos integrados en la línea de Sistemas Inteligentes en el año 2007: Interacción Multimodal en Reconocimiento de Formas y Visión Artificial y Tecnologías del Acuerdo', '', 'A continuación, tras haber argumentado a favor de la formación de los futuros Ingenieros en Informática en las técnicas de los sistemas inteligentes, los ponentes hacen una propuesta de contenidos, apoyándose en los informes de ACM e IEEE de 2005, en particular en el currículo en Computer Science, y en los contenidos en sistemas inteligentes de titulaciones de Informática en distintas universidades de prestigio. En concreto se propone una asignatura de contenidos formativos comunes de 12 créditos europeos, que abordará los siguientes aspectos:', '', '• Presentación de la asignatura (5%)', '', '• Representación del Conocimiento. Resolución de Problemas (10%)', '', '• Razonamiento: Lógica. Razonamiento incierto (10%)', '', '• Planificación (10%)', '', '• Búsqueda (10%)', '', '• Aprendizaje Automático (15%)', '', '• Agentes: Conceptos y Arquitecturas. Filtros colaborativos (15%)', '', '• Aplicaciones: Lenguaje natural (incluye web). Percepción (incluye visión). La aplicación de referencia en la Universidad correspondiente (25%)', '', 'Adicionalmente se expusieron una serie de consideraciones didácticas a tener en cuenta al diseñar la asignatura de sistemas inteligentes:', '', '• Aproximar los estudios universitarios al ejercicio profesional.', '', '• Mayor protagonismo del estudiante en su formación.', '', '• Fomentar el trabajo colaborativo', '', '• Organizar la enseñanza en función de las competencias', '', '• Potenciar la adquisición de herramientas de aprendizaje autónomo y permanente', '', '• Uso de metodologías activas', '', '• Redefinición profunda de planes de estudio con objetivos acordes con el entorno socioeconómico y con las enseñanzas preuniversitarias.', '', 'Finalmente, se propusieron distintas materias discrecionales a elegir por las universidades (Almacenes y Minería de Datos, Aprendizaje Automático, Lingüística Computacional, Reconocimiento de Formas, Métodos Basados en Núcleos, Sistemas Multiagente, Técnicas de Búsqueda Inteligente y tema en los que tenga experiencia la propia Universidad) y una propuesta de materias de master en Sistemas Inteligentes (Agentes de Información y Web Semántica, Extracción del Conocimiento, Ingeniería del Conocimiento, Ingeniería de Sistemas Multiagente, Métodos Estadísticos en Tecnologías del Lenguaje, Planificación, Scheduling y Robótica, Reconocimiento Automático del Habla, Reconocimiento de Escritura e Imágenes, Sistemas de Visión y Técnicas de Planificación en Inteligencia Artificial).', '', 'La presentación permitió a los asistentes hacerse una idea de la propuesta de los ponentes, que se encuentra detallada en su ponencia, y de esta forma se dio paso al debate.', '', 'Para más informaciones, contacta con:', '', 'contacto.visual@hotmail.com', '', 'referencia_oficial01@gmail.com', '', 'adminatrador-departamiento@yahoo.es', '']\n"
          ]
        }
      ]
    },
    {
      "cell_type": "markdown",
      "source": [
        "Identificamos el primer párrafo"
      ],
      "metadata": {
        "id": "yyCuOJcgPNuK"
      }
    },
    {
      "cell_type": "code",
      "source": [
        "parrafos[4]"
      ],
      "metadata": {
        "colab": {
          "base_uri": "https://localhost:8080/",
          "height": 124
        },
        "id": "pcRsUoqdO87m",
        "outputId": "77519354-ada2-4be9-f639-1cddda385c2a"
      },
      "execution_count": 5,
      "outputs": [
        {
          "output_type": "execute_result",
          "data": {
            "text/plain": [
              "'En este documento se presenta un resumen de la ponencia y del posterior debate realizado en la mesa redonda dedicada al tema de “Sistemas Inteligentes: Propuesta de contenidos y técnicas docentes en la titulación de Ingeniería Informática”, celebrada el 12 de septiembre de 2007, a las 11:00 h., en el Aula 8 de la Escuela Universitaria de Estudios Sociales de Zaragoza, dentro del II Simposio Nacional de Docencia en Informática (SiNDI), organizado en el marco del II Congreso Español de Informática (CEDI). Esta sesión también formaba parte de las sesiones del II Simposio de Inteligencia Computacional (SICO’2007) organizado por el Capítulo Español de la IEEE Computacional Intelligence Society.'"
            ],
            "application/vnd.google.colaboratory.intrinsic+json": {
              "type": "string"
            }
          },
          "metadata": {},
          "execution_count": 5
        }
      ]
    },
    {
      "cell_type": "markdown",
      "source": [
        "Tokenizamos verticalmente el primer párrafo"
      ],
      "metadata": {
        "id": "Zbqwp8f0PTLN"
      }
    },
    {
      "cell_type": "code",
      "source": [],
      "metadata": {
        "id": "VADv4_3XcR5m"
      },
      "execution_count": null,
      "outputs": []
    },
    {
      "cell_type": "code",
      "source": [
        "primer_parrafo = parrafos[4]\n",
        "tokenizacion_vertical = re.findall(r'\\b\\w+\\b', primer_parrafo)\n",
        "\n",
        "tokenizacion_vertical"
      ],
      "metadata": {
        "id": "oY24DhPa-Emi"
      },
      "execution_count": null,
      "outputs": []
    },
    {
      "cell_type": "markdown",
      "source": [
        "Realizamos la tokenización horizontal del segundo párrafo"
      ],
      "metadata": {
        "id": "Y7R8pBhpRJIM"
      }
    },
    {
      "cell_type": "code",
      "source": [
        "parrafos[6]"
      ],
      "metadata": {
        "id": "4PmERghiTigf"
      },
      "execution_count": null,
      "outputs": []
    },
    {
      "cell_type": "code",
      "source": [
        "segundo_parrafo = parrafos[6]\n",
        "tokenizacion_horizontal = nltk.sent_tokenize(segundo_parrafo)\n",
        "\n",
        "print(tokenizacion_horizontal)"
      ],
      "metadata": {
        "id": "LmAc_-5AAMPU"
      },
      "execution_count": null,
      "outputs": []
    },
    {
      "cell_type": "markdown",
      "source": [
        "Seleccionamos las stopwords que hay en todo el texto"
      ],
      "metadata": {
        "id": "FYLwxDXZRYEY"
      }
    },
    {
      "cell_type": "code",
      "source": [
        "stopwords_texto = re.findall(r'\\b\\w+\\b', texto)\n",
        "\n",
        "for word in stopwords_texto:\n",
        "  if word in stop_words:\n",
        "    print(word)"
      ],
      "metadata": {
        "id": "HAviHfBkA4ur"
      },
      "execution_count": null,
      "outputs": []
    },
    {
      "cell_type": "markdown",
      "source": [
        "REGEX\n",
        "\n",
        "\n",
        "    Muestra todos los números.\n",
        "    Muestra los números con 4 cifras que indican los años.\n",
        "    Muestra todas las palabras que contienen vocales con acentos.\n",
        "    Muestra los correos electrónicos.\n",
        "    Muestra todos los porcentajes.\n",
        "    Muestra las frases que contienen porcentajes.\n",
        "    Muestra las palabras que comienzan con mayúsculas.\n"
      ],
      "metadata": {
        "id": "Rd_MosrNT74H"
      }
    },
    {
      "cell_type": "markdown",
      "source": [
        "Muestra todos los números:\n",
        "https://regex101.com/r/uKEUwy/1"
      ],
      "metadata": {
        "id": "y2McYbsAUH36"
      }
    },
    {
      "cell_type": "markdown",
      "source": [
        "Muestra los números con 4 cifras que indican los años: https://regex101.com/r/UCPVh5/1"
      ],
      "metadata": {
        "id": "S0355BQVVUQH"
      }
    },
    {
      "cell_type": "markdown",
      "source": [
        "Muestra todas las palabras que contienen vocales con acentos: https://regex101.com/r/SVJUCB/1"
      ],
      "metadata": {
        "id": "C_3AI6gDVuDf"
      }
    },
    {
      "cell_type": "markdown",
      "source": [
        "Muestra los correos electrónicos: https://regex101.com/r/YP7sIh/1"
      ],
      "metadata": {
        "id": "59GOdlKtXntw"
      }
    },
    {
      "cell_type": "markdown",
      "source": [
        "Muestra todos los porcentajes: https://regex101.com/r/OPswcl/1\n",
        "\n"
      ],
      "metadata": {
        "id": "wzx3nmFyX1R1"
      }
    },
    {
      "cell_type": "markdown",
      "source": [
        "Muestra las frases que contienen porcentajes: https://regex101.com/r/W9oOjC/1"
      ],
      "metadata": {
        "id": "bbbpQXSmm-4t"
      }
    },
    {
      "cell_type": "markdown",
      "source": [
        "Muestra las palabras que comienzan con mayúsculas: https://regex101.com/r/wp84pD/1"
      ],
      "metadata": {
        "id": "7SuNiAlVnKP-"
      }
    }
  ]
}